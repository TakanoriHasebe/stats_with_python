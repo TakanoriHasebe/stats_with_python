{
 "cells": [
  {
   "cell_type": "markdown",
   "metadata": {},
   "source": [
    "### <font color='blue'>p値が0.05以下だった時の結果の書き方</font>"
   ]
  },
  {
   "cell_type": "markdown",
   "metadata": {},
   "source": [
    "p値が0.05以下だった時は有意差がありとなる。<br>\n",
    "スナック菓子の重量が50gと異なるかどうかの検定では、「スナック菓子の平均重量は50gと有意に異なる」と記載。<br>"
   ]
  },
  {
   "cell_type": "markdown",
   "metadata": {},
   "source": [
    "### <font color='blue'>p値が0.05よりも大きかった場合の結果の書き方</font>"
   ]
  },
  {
   "cell_type": "markdown",
   "metadata": {},
   "source": [
    "p値が0.05よりも大きかった場合は、帰無仮説を棄却不可。<br>\n",
    "書き方は以下のよう。<br>\n",
    "「スナック菓子の平均重量は50gと有意に異なっているとは言えなかった」と記載。<br>"
   ]
  },
  {
   "cell_type": "markdown",
   "metadata": {},
   "source": [
    "### <font color='blue'>仮説検定における、よくある間違い</font>"
   ]
  },
  {
   "cell_type": "markdown",
   "metadata": {},
   "source": [
    "➀p値が小さい方が、差が大きい<br>\n",
    "➁p値が0.05より大きいので、「差がない」と言える<br>\n",
    "➂「1-p値」は「対立仮説が正しい確率」である<br>"
   ]
  },
  {
   "cell_type": "markdown",
   "metadata": {},
   "source": [
    "### <font color='blue'>p値が小さくとも、差が大きいとは限らない</font>"
   ]
  },
  {
   "cell_type": "markdown",
   "metadata": {},
   "source": [
    "t値に関しては、標準偏差が小さいとt値は大きくなる。<br>\n",
    "また、サンプルサイズが大きいとt値が大きくなる。<br>"
   ]
  },
  {
   "cell_type": "markdown",
   "metadata": {},
   "source": [
    "p値だけをみて、実験の結果を解釈することは危険。<br>"
   ]
  },
  {
   "cell_type": "markdown",
   "metadata": {},
   "source": [
    "### <font color='blue'>検定の非対称性</font>"
   ]
  },
  {
   "cell_type": "markdown",
   "metadata": {},
   "source": [
    "第二種の過誤が起こる確率すなわち「帰無仮説が間違っているのに、誤って帰無仮説を採択してしまう確率」<br>\n",
    "は、統計的仮説検定ではコントロールいていない。<br>"
   ]
  },
  {
   "cell_type": "markdown",
   "metadata": {},
   "source": [
    "### <font color='blue'>有意水準は検定をする前に決めておく</font>"
   ]
  },
  {
   "cell_type": "markdown",
   "metadata": {},
   "source": [
    "有意水準としては5%や1%がよく用いられる。<br>"
   ]
  },
  {
   "cell_type": "markdown",
   "metadata": {},
   "source": [
    "### <font color='blue'>仮説は正しいか</font>"
   ]
  },
  {
   "cell_type": "markdown",
   "metadata": {},
   "source": [
    "t検定では母集団分布を正規分布として仮定。<br>\n",
    "この仮定が間違っていると、正しくp値を計算不可能。<br>"
   ]
  }
 ],
 "metadata": {
  "kernelspec": {
   "display_name": "Python 3",
   "language": "python",
   "name": "python3"
  },
  "language_info": {
   "codemirror_mode": {
    "name": "ipython",
    "version": 3
   },
   "file_extension": ".py",
   "mimetype": "text/x-python",
   "name": "python",
   "nbconvert_exporter": "python",
   "pygments_lexer": "ipython3",
   "version": "3.6.1"
  }
 },
 "nbformat": 4,
 "nbformat_minor": 2
}
