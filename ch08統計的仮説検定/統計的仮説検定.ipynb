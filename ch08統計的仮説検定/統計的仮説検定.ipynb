{
 "cells": [
  {
   "cell_type": "markdown",
   "metadata": {},
   "source": [
    "統計的仮説検定は、標本を使って、母集団に関する統計的な判断を下す方法<br>\n",
    "標本だけを使って「母集団を対象とした判断」を下すことは本来とても難しいことである。<br>"
   ]
  },
  {
   "cell_type": "markdown",
   "metadata": {},
   "source": [
    "### <font color = 'blue'>1変量データのt検定</font>"
   ]
  },
  {
   "cell_type": "markdown",
   "metadata": {},
   "source": [
    "対象：平均値<br>\n",
    "判断すること：平均値がある値と異なると言えるかどうか<brs>"
   ]
  },
  {
   "cell_type": "markdown",
   "metadata": {},
   "source": [
    "スナック菓子の中身の平均は50gかどうか<br>"
   ]
  },
  {
   "cell_type": "markdown",
   "metadata": {},
   "source": [
    "### <font color='blue'>有意差</font>"
   ]
  },
  {
   "cell_type": "markdown",
   "metadata": {},
   "source": [
    "検定という枠組みに関わらず、意味のある差・意味のない差について考えを巡らす。<br>"
   ]
  },
  {
   "cell_type": "markdown",
   "metadata": {},
   "source": [
    "### <font color='blue'>t検定：直感的な考え方</font>"
   ]
  },
  {
   "cell_type": "markdown",
   "metadata": {},
   "source": [
    "スナック菓子を２袋空けたとする。<br>\n",
    "1袋目が55gで、2袋目が44g<br>\n",
    "平均は49.5g<br>"
   ]
  },
  {
   "cell_type": "markdown",
   "metadata": {},
   "source": [
    "上記は意味のある差とはいえない。<br>"
   ]
  },
  {
   "cell_type": "markdown",
   "metadata": {},
   "source": [
    "1.サンプル数<br>\n",
    "2.測定方法<br>"
   ]
  },
  {
   "cell_type": "markdown",
   "metadata": {},
   "source": [
    "有意差が存在するのは以下の条件がある時である。<br>\n",
    "1. 大きなサンプルで調査。<br>\n",
    "2. 精密な重量系で測定。<br>\n",
    "3. 重量の平均値が50gから大きく離れている。<br>"
   ]
  },
  {
   "cell_type": "markdown",
   "metadata": {},
   "source": [
    "t検定では、上記の３つの条件が満たされているときに、有意差ありと判断する。<br>"
   ]
  },
  {
   "cell_type": "markdown",
   "metadata": {},
   "source": [
    "### <font color='blue'>平均値の差が大きいだけでは有意差は得られない</font>"
   ]
  },
  {
   "cell_type": "markdown",
   "metadata": {},
   "source": [
    "バネが歪んでいる重量計で重さを測っても、分散が大きすぎてダメ。<br>\n",
    "またサンプルサイズが小さくてもダメ。<br>"
   ]
  },
  {
   "cell_type": "markdown",
   "metadata": {},
   "source": [
    "平均値以外に、サンプルサイズとデータのばらつき（分散）の大きさを加味することが必要。"
   ]
  },
  {
   "cell_type": "markdown",
   "metadata": {},
   "source": [
    "### <font color='blue'>t値</font>"
   ]
  },
  {
   "cell_type": "markdown",
   "metadata": {},
   "source": [
    "t検定における、有意差ありと考える条件。<br>\n",
    "つまり、先ほどの３つの条件を満たしていること<br>"
   ]
  },
  {
   "cell_type": "markdown",
   "metadata": {},
   "source": [
    "大きなサンプルで調査した：サンプルサイズが大きい<br>\n",
    "精密な重量計で測定した：データのばらつき（分散）が小さい<br>\n",
    "重量の平均値が50gから大きく離れている：平均値の差が大きい<br>"
   ]
  },
  {
   "cell_type": "markdown",
   "metadata": {},
   "source": [
    "t値が大きければ、有意差ありということ<br>"
   ]
  },
  {
   "cell_type": "markdown",
   "metadata": {},
   "source": [
    "### <font color ='blue'>統計的仮説検定の枠組み：帰無仮説・対立仮説</font>"
   ]
  },
  {
   "cell_type": "markdown",
   "metadata": {},
   "source": [
    "統計的仮説検定では、ある仮説を立てて、その仮説を棄却するかしないかという判断<br>\n",
    "を下すことで、データからの客観的な判断を試みる。<br>"
   ]
  },
  {
   "cell_type": "markdown",
   "metadata": {},
   "source": [
    "棄却される対象となる最初の仮説を帰無仮説という。<br>\n",
    "帰無仮説と対立する仮説を対立仮説という。<br>"
   ]
  },
  {
   "cell_type": "markdown",
   "metadata": {},
   "source": [
    "帰無仮説：スナック菓子の平均重量は50gである。<br>\n",
    "対立仮説：スナック菓子の平均重量は50gと異なる。<br>"
   ]
  },
  {
   "cell_type": "markdown",
   "metadata": {},
   "source": [
    "帰無仮説が棄却された場合、「スナック菓子の平均値は50gと異なる」と判断可能。<br>"
   ]
  },
  {
   "cell_type": "markdown",
   "metadata": {},
   "source": [
    "### <font color='blue'>p値</font>"
   ]
  },
  {
   "cell_type": "markdown",
   "metadata": {},
   "source": [
    "p値とは、標本と帰無仮説との矛盾となる指標である。<br>\n",
    "p値が小さいほど、帰無仮説と標本が矛盾していると考える。<br>\n",
    "p値が大きいいと、帰無仮説と標本が矛盾していないと考える。<br>"
   ]
  },
  {
   "cell_type": "markdown",
   "metadata": {},
   "source": [
    "p値は確率として表現される。<br>\n",
    "p値も信頼区間と同様に、「まったく同じ条件で何度も何度も標本抽出~t値の計算を繰り返す」<br>\n",
    "ということをやって、確率を解釈できる。<br>"
   ]
  },
  {
   "cell_type": "markdown",
   "metadata": {},
   "source": [
    "### <font color = 'blue'>有意水準</font>"
   ]
  },
  {
   "cell_type": "markdown",
   "metadata": {},
   "source": [
    "p値が有意水準を下回った時に、帰無仮説を棄却。<br>"
   ]
  },
  {
   "cell_type": "markdown",
   "metadata": {},
   "source": [
    "### <font color='blue'>片側検定・両側検定</font>"
   ]
  },
  {
   "cell_type": "markdown",
   "metadata": {},
   "source": [
    "片側よりも、両側検定がよく用いられる。<br>"
   ]
  },
  {
   "cell_type": "markdown",
   "metadata": {},
   "source": [
    "### <font color = 'blue'>p値の計算方法</font>"
   ]
  },
  {
   "cell_type": "markdown",
   "metadata": {},
   "source": [
    "両側検定を行うことを前提としてp値を計算する。<br>"
   ]
  },
  {
   "cell_type": "markdown",
   "metadata": {},
   "source": [
    "今回の標本から計算されたt値のことをt標本とする。<br>"
   ]
  },
  {
   "cell_type": "markdown",
   "metadata": {},
   "source": [
    "t分布の累積分布関数を用いると「母平均を50と仮定した時に、t値がt標本を下回る確率」を計算できる。<br>\n",
    "この確率をαとする。<br>"
   ]
  },
  {
   "cell_type": "markdown",
   "metadata": {},
   "source": [
    "p値は以下のように計算可能。<br>"
   ]
  },
  {
   "cell_type": "markdown",
   "metadata": {},
   "source": [
    "p値 = (1 - α) * 2"
   ]
  },
  {
   "cell_type": "markdown",
   "metadata": {},
   "source": [
    "### <font color = 'blue'>t値とp値の関係(ここまでの流れのまとめ)</font>"
   ]
  },
  {
   "cell_type": "markdown",
   "metadata": {},
   "source": [
    "t値はp値に変換できる<br>"
   ]
  },
  {
   "cell_type": "markdown",
   "metadata": {},
   "source": [
    "p値とは「たまたま、t値が大きくなって、差があるように見えてしまう確率」のことである<br>"
   ]
  },
  {
   "cell_type": "markdown",
   "metadata": {},
   "source": [
    "p値が0.05を下回れば、（偶然である可能性が小さいから）t値は十分大きいとみなせる<br>"
   ]
  },
  {
   "cell_type": "markdown",
   "metadata": {},
   "source": [
    "### <font color='blue'>t検定の実装：分析の準備</font>"
   ]
  },
  {
   "cell_type": "code",
   "execution_count": 1,
   "metadata": {},
   "outputs": [
    {
     "data": {
      "text/plain": [
       "'%.3f'"
      ]
     },
     "execution_count": 1,
     "metadata": {},
     "output_type": "execute_result"
    }
   ],
   "source": [
    "# ライブラリのimport\n",
    "import numpy as np\n",
    "import pandas as pd\n",
    "# 表示桁数の指定\n",
    "%precision 3\n",
    "from matplotlib import pyplot as plt\n",
    "import seaborn as sns\n",
    "sns.set()\n",
    "# グラフをjupyter notebook内に表示\n",
    "%matplotlib inline\n",
    "# ライブラリのimport\n",
    "import scipy as sp\n",
    "from scipy import stats\n",
    "# 表示桁数の指定\n",
    "%precision 3"
   ]
  },
  {
   "cell_type": "code",
   "execution_count": 2,
   "metadata": {},
   "outputs": [
    {
     "data": {
      "text/plain": [
       "0    58.529820\n",
       "1    52.353039\n",
       "2    74.446169\n",
       "3    52.983263\n",
       "4    55.876879\n",
       "Name: weight, dtype: float64"
      ]
     },
     "execution_count": 2,
     "metadata": {},
     "output_type": "execute_result"
    }
   ],
   "source": [
    "junk_food = pd.read_csv(\"3-8-1-junk-food-weight.csv\")[\"weight\"]\n",
    "junk_food.head()"
   ]
  },
  {
   "cell_type": "markdown",
   "metadata": {},
   "source": [
    "### <font color='blue'>t検定の実装：t値の計算（有意差の計算）</font>"
   ]
  },
  {
   "cell_type": "code",
   "execution_count": 3,
   "metadata": {
    "collapsed": true
   },
   "outputs": [],
   "source": [
    "# 標本平均\n",
    "mu = sp.mean(junk_food)"
   ]
  },
  {
   "cell_type": "code",
   "execution_count": 4,
   "metadata": {},
   "outputs": [
    {
     "data": {
      "text/plain": [
       "55.385"
      ]
     },
     "execution_count": 4,
     "metadata": {},
     "output_type": "execute_result"
    }
   ],
   "source": [
    "mu"
   ]
  },
  {
   "cell_type": "code",
   "execution_count": 5,
   "metadata": {
    "collapsed": true
   },
   "outputs": [],
   "source": [
    "# 自由度\n",
    "df = len(junk_food) - 1"
   ]
  },
  {
   "cell_type": "code",
   "execution_count": 6,
   "metadata": {
    "collapsed": true
   },
   "outputs": [],
   "source": [
    "# 標準誤差\n",
    "sigma = sp.std(junk_food, ddof = 1)\n",
    "se = sigma / sp.sqrt(len(junk_food))"
   ]
  },
  {
   "cell_type": "code",
   "execution_count": 7,
   "metadata": {},
   "outputs": [
    {
     "data": {
      "text/plain": [
       "2.750"
      ]
     },
     "execution_count": 7,
     "metadata": {},
     "output_type": "execute_result"
    }
   ],
   "source": [
    "t_value = (mu - 50) / se\n",
    "t_value"
   ]
  },
  {
   "cell_type": "markdown",
   "metadata": {},
   "source": [
    "### <font color='blue'>t検定の実装：p値の計算</font>"
   ]
  },
  {
   "cell_type": "markdown",
   "metadata": {},
   "source": [
    "母集団に正規分布を仮定すると、t値はt分布に従うと考えられるので<br>\n",
    "t分布の累積密度関数が使える。<br>"
   ]
  },
  {
   "cell_type": "markdown",
   "metadata": {},
   "source": [
    "t分布の累積分布関数を用いると<br>\n",
    "「母平均を50と仮定した時に、t値がt標本を下回る確率」を計算することができる。<br>\n",
    "この確率をαとする<br>"
   ]
  },
  {
   "cell_type": "markdown",
   "metadata": {},
   "source": [
    "1-αを求めると<br>\n",
    "「母平均を50と仮定した時に、t値がt標本を上回る確率」を計算できる。<br>"
   ]
  },
  {
   "cell_type": "markdown",
   "metadata": {},
   "source": [
    "1-αが小さければ「t値がt標本を上回る確率が低い（すなわち、t標本は十分に大きい）」ということになり<br>\n",
    "有意差が得られそうである。<br>"
   ]
  },
  {
   "cell_type": "code",
   "execution_count": 8,
   "metadata": {},
   "outputs": [
    {
     "data": {
      "text/plain": [
       "0.013"
      ]
     },
     "execution_count": 8,
     "metadata": {},
     "output_type": "execute_result"
    }
   ],
   "source": [
    "alpha = stats.t.cdf(t_value, df = df)\n",
    "(1 - alpha) * 2"
   ]
  },
  {
   "cell_type": "markdown",
   "metadata": {},
   "source": [
    "p値が有意水準0.05を下回っているので、有意差ありとみなせる。<br>\n",
    "スナック菓子の平均重量は50gと優位に異なっていると判断できる。<br>"
   ]
  },
  {
   "cell_type": "code",
   "execution_count": 9,
   "metadata": {},
   "outputs": [
    {
     "data": {
      "text/plain": [
       "Ttest_1sampResult(statistic=2.750339683171343, pvalue=0.012725590012524182)"
      ]
     },
     "execution_count": 9,
     "metadata": {},
     "output_type": "execute_result"
    }
   ],
   "source": [
    "# もっと簡単にt検定を行うことができる\n",
    "stats.ttest_1samp(junk_food, 50)"
   ]
  },
  {
   "cell_type": "markdown",
   "metadata": {},
   "source": [
    "### <font color='blue'>シミュレーションによるp値の計算</font>"
   ]
  },
  {
   "cell_type": "markdown",
   "metadata": {},
   "source": [
    "p値の意味を解釈するために、p値をシミュレーションで求めてみる。<br>"
   ]
  },
  {
   "cell_type": "markdown",
   "metadata": {},
   "source": [
    "p値は「帰無仮説が正しいと仮定して、何度も標本抽出 ~ t値計算を繰り返した時<br>\n",
    "t標本と同じかそれより大きなt値が得られる割合」と解釈できる。<br>"
   ]
  },
  {
   "cell_type": "markdown",
   "metadata": {},
   "source": [
    "割合が小さいということは、t標本を越えることが滅多にないということである。<br>\n",
    "t標本が十分に大きいと考えられ、有意差が得られると判断できる。<br>"
   ]
  },
  {
   "cell_type": "code",
   "execution_count": 11,
   "metadata": {
    "collapsed": true
   },
   "outputs": [],
   "source": [
    "size = len(junk_food)\n",
    "sigma = sp.std(junk_food, ddof=1)"
   ]
  },
  {
   "cell_type": "code",
   "execution_count": 12,
   "metadata": {
    "collapsed": true
   },
   "outputs": [],
   "source": [
    "# 50000個のt値を格納する入れ物を用意\n",
    "t_value_array = np.zeros(50000)"
   ]
  },
  {
   "cell_type": "markdown",
   "metadata": {},
   "source": [
    "帰無仮説が正しいと仮定して、50000回、標本抽出 ~ t値計算を行う。<br>"
   ]
  },
  {
   "cell_type": "code",
   "execution_count": 13,
   "metadata": {
    "collapsed": true
   },
   "outputs": [],
   "source": [
    "np.random.seed(1)\n",
    "norm_dist = stats.norm(loc=50, scale=sigma)\n",
    "for i in range(0, 50000):\n",
    "    sample = norm_dist.rvs(size = size)\n",
    "    sample_mean = sp.mean(sample)\n",
    "    sample_std = sp.std(sample, ddof = 1)\n",
    "    sample_se = sample_std / sp.sqrt(size)\n",
    "    t_value_array[i] = (sample_mean - 50) / sample_se"
   ]
  },
  {
   "cell_type": "code",
   "execution_count": 14,
   "metadata": {},
   "outputs": [
    {
     "data": {
      "text/plain": [
       "0.013"
      ]
     },
     "execution_count": 14,
     "metadata": {},
     "output_type": "execute_result"
    }
   ],
   "source": [
    "(sum(t_value_array > t_value) / 50000) * 2"
   ]
  },
  {
   "cell_type": "code",
   "execution_count": null,
   "metadata": {
    "collapsed": true
   },
   "outputs": [],
   "source": []
  }
 ],
 "metadata": {
  "kernelspec": {
   "display_name": "Python 3",
   "language": "python",
   "name": "python3"
  },
  "language_info": {
   "codemirror_mode": {
    "name": "ipython",
    "version": 3
   },
   "file_extension": ".py",
   "mimetype": "text/x-python",
   "name": "python",
   "nbconvert_exporter": "python",
   "pygments_lexer": "ipython3",
   "version": "3.6.1"
  }
 },
 "nbformat": 4,
 "nbformat_minor": 2
}
