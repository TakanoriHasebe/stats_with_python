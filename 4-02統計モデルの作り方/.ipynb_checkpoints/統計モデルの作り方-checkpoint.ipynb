{
 "cells": [
  {
   "cell_type": "markdown",
   "metadata": {},
   "source": [
    "### <font color = 'blue'>この章の例題</font> "
   ]
  },
  {
   "cell_type": "markdown",
   "metadata": {},
   "source": [
    "ビールの売上予測モデルを構築する。<br>\n",
    "ビールの売上に影響がある要素を「気温・天気・ビールの価格」とする。<br>"
   ]
  },
  {
   "cell_type": "markdown",
   "metadata": {},
   "source": [
    "### <font color = 'blue'>応答変数・説明変数</font>"
   ]
  },
  {
   "cell_type": "markdown",
   "metadata": {},
   "source": [
    "応答変数：何らかの要因によって変化する変数。<br>\n",
    "「ビールの売上」<br>\n",
    "説明変数：興味のある対象の変化を説明する変数。<br>\n",
    "「気温・天気・価格」<br>"
   ]
  },
  {
   "cell_type": "markdown",
   "metadata": {},
   "source": [
    "### <font color = 'blue'>パラメトリックなモデル</font>"
   ]
  },
  {
   "cell_type": "markdown",
   "metadata": {},
   "source": [
    "できる限り現象を単純化し、少数のパラメタだけを使うモデルをパラメトリックなモデルという。<br>"
   ]
  },
  {
   "cell_type": "markdown",
   "metadata": {},
   "source": [
    "### <font color='blue'>ノンパラメトリックなモデル</font>"
   ]
  },
  {
   "cell_type": "markdown",
   "metadata": {},
   "source": [
    "「少数のパラメタだけを使う」という方針を取らないモデルを、ノンパラメトリックなモデルという。<br>"
   ]
  },
  {
   "cell_type": "markdown",
   "metadata": {},
   "source": [
    "### <font color = 'blue'>線形モデル</font>"
   ]
  },
  {
   "cell_type": "markdown",
   "metadata": {},
   "source": [
    "線形モデルとは、応答変数と説明変数の関係に線形の関係のみを認めたモデル。<br>"
   ]
  },
  {
   "cell_type": "markdown",
   "metadata": {},
   "source": [
    "### <font color='blue'>係数・重み</font>"
   ]
  },
  {
   "cell_type": "markdown",
   "metadata": {},
   "source": [
    "統計モデルに用いられるパラメタのことを係数という。<br>"
   ]
  },
  {
   "cell_type": "markdown",
   "metadata": {},
   "source": [
    "$\\beta_{0}$や$\\beta_{1}$を係数とする<br>\n",
    "ここの場合では、係数と説明変数があれば母数を推測することができる。<br>"
   ]
  },
  {
   "cell_type": "markdown",
   "metadata": {},
   "source": [
    "### <font color = 'blue'>モデルの構築=モデルの特定+パラメタ推定</font>"
   ]
  },
  {
   "cell_type": "markdown",
   "metadata": {},
   "source": [
    "モデルの構築という作業には大きく２に分かれる。<br>"
   ]
  },
  {
   "cell_type": "markdown",
   "metadata": {},
   "source": [
    "1つはモデルの構造を数式で表現すること。(モデルの特定)<br>\n",
    "もう１つはパラメタを推定すること。<br>"
   ]
  },
  {
   "cell_type": "markdown",
   "metadata": {},
   "source": [
    "モデルの構造とは、「気温が変化することで、ビールの売上が増減する」といった構造である。<br>\n",
    "これは人間が想像することで行う。<br>"
   ]
  },
  {
   "cell_type": "markdown",
   "metadata": {},
   "source": [
    "パラメタ、言い換えると係数を推定する。<br>\n",
    "気温が１℃上がると、ビールの売上が●万円増えるの●万円の部分を推定すること<br>"
   ]
  },
  {
   "cell_type": "markdown",
   "metadata": {},
   "source": [
    "パラメタを推定できると、気温とビールの売上の関係が分かるだけでなく<br>\n",
    "気温というデータを使ってビールの売上を予測可能。<br>"
   ]
  },
  {
   "cell_type": "markdown",
   "metadata": {},
   "source": [
    "線形モデルを仮定した時の「モデルの構造」を変える方法は以下２つ。<br>"
   ]
  },
  {
   "cell_type": "markdown",
   "metadata": {},
   "source": [
    "●モデルに用いる説明変数を変える<br>\n",
    "●データに従う確率分布を変える<br>"
   ]
  },
  {
   "cell_type": "markdown",
   "metadata": {},
   "source": [
    "### <font color='blue'>変数選択</font>"
   ]
  },
  {
   "cell_type": "markdown",
   "metadata": {},
   "source": [
    "モデルに用いる説明変数を選ぶ作業のことを、変数選択という。<br>\n",
    "変数選択をするためには、まずは様々な変数の組み合わせでモデルを構築する。<br>"
   ]
  },
  {
   "cell_type": "code",
   "execution_count": null,
   "metadata": {
    "collapsed": true
   },
   "outputs": [],
   "source": []
  }
 ],
 "metadata": {
  "kernelspec": {
   "display_name": "Python 3",
   "language": "python",
   "name": "python3"
  },
  "language_info": {
   "codemirror_mode": {
    "name": "ipython",
    "version": 3
   },
   "file_extension": ".py",
   "mimetype": "text/x-python",
   "name": "python",
   "nbconvert_exporter": "python",
   "pygments_lexer": "ipython3",
   "version": "3.6.1"
  }
 },
 "nbformat": 4,
 "nbformat_minor": 2
}
