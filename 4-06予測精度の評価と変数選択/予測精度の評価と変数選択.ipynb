{
 "cells": [
  {
   "cell_type": "markdown",
   "metadata": {},
   "source": [
    "### <font color='blue'>当てはめ精度・予測精度</font>"
   ]
  },
  {
   "cell_type": "markdown",
   "metadata": {},
   "source": [
    "当てはめ精度：「手持ちのデータ」に対してモデルを適用した時の、当てはまり度合い。<br>\n",
    "予測精度：「まだ手に入れていないデータ」に対してモデルを適用した時の、当てはまりの度合い。<br>"
   ]
  },
  {
   "cell_type": "markdown",
   "metadata": {},
   "source": [
    "### <font color='blue'>変数選択の意義</font>"
   ]
  },
  {
   "cell_type": "markdown",
   "metadata": {},
   "source": [
    "過学習を引き起こしてしまう原因として、説明変数を増やし過ぎることがあげられる。<br>"
   ]
  },
  {
   "cell_type": "markdown",
   "metadata": {},
   "source": [
    "不要な説明変数を除くことで、予測精度が上がる可能性！<br>"
   ]
  },
  {
   "cell_type": "markdown",
   "metadata": {},
   "source": [
    "### <font color='blue'>汎化誤差</font>"
   ]
  },
  {
   "cell_type": "markdown",
   "metadata": {},
   "source": [
    "まだ、手に入れていないデータに対する予測誤差を汎化誤差という<br>"
   ]
  },
  {
   "cell_type": "markdown",
   "metadata": {},
   "source": [
    "### <font color='blue'>訓練データ・テストデータ</font>"
   ]
  },
  {
   "cell_type": "markdown",
   "metadata": {},
   "source": [
    "訓練データ：パラメタ推定の時に用いられる。<br>\n",
    "テストデータ：汎化誤差を評価する。<br>"
   ]
  },
  {
   "cell_type": "markdown",
   "metadata": {},
   "source": [
    "### <font color='blue'>クロスバリデーション</font>"
   ]
  },
  {
   "cell_type": "markdown",
   "metadata": {
    "collapsed": true
   },
   "source": [
    "変数選択の１つのアイデアは、クロスバリデーションを用いて<br>\n",
    "テストデータに対する予測精度を評価し<br>\n",
    "この時の精度が最大になるような変数の組み合わせを選ぶというもの。<br>"
   ]
  },
  {
   "cell_type": "markdown",
   "metadata": {},
   "source": [
    "### <font color='blue'>最大化対数尤度についてもう一度</font>"
   ]
  },
  {
   "cell_type": "markdown",
   "metadata": {},
   "source": [
    "0. 尤度：パラメタが定まった時における、標本が得られる確率（密度）<br>\n",
    "1. 最尤法 : 尤度や対数尤度を最大にするパラメタを、パラメタの推定値として採用<br>\n",
    "2. 最尤推定量 : 最尤法によって推定されたパラメタを、最尤推定量<br>\n",
    "3. 最大化対数尤度 : 最尤推定量を採用した時の対数尤度を最大化対数尤度<br>"
   ]
  },
  {
   "cell_type": "markdown",
   "metadata": {},
   "source": [
    "### <font color='blue'>赤池の情報量基準(AIC)</font>"
   ]
  },
  {
   "cell_type": "markdown",
   "metadata": {},
   "source": [
    "AIC = -2×（最大化対数尤度 - 推定されたパラメタの個数）<br>"
   ]
  },
  {
   "cell_type": "markdown",
   "metadata": {},
   "source": [
    "AICが小さければ小さいほど良いモデル。<br>\n",
    "対数尤度が大きければ大きいほど、当てはめ精度は高いとみなせる。<br>\n",
    "しかし、当てはめ精度をあげることに注力すると、汎化誤差が大きくなる。<br>"
   ]
  },
  {
   "cell_type": "markdown",
   "metadata": {},
   "source": [
    "そこで、AICでは推定されたパラメタの個数を罰則として用いる。<br>"
   ]
  },
  {
   "cell_type": "markdown",
   "metadata": {
    "collapsed": true
   },
   "source": [
    "AICは罰則が増えることを補って余りあるほどに対数尤度が増えるかどうかを判定している指標。<br>"
   ]
  },
  {
   "cell_type": "code",
   "execution_count": null,
   "metadata": {
    "collapsed": true
   },
   "outputs": [],
   "source": []
  }
 ],
 "metadata": {
  "kernelspec": {
   "display_name": "Python 3",
   "language": "python",
   "name": "python3"
  },
  "language_info": {
   "codemirror_mode": {
    "name": "ipython",
    "version": 3
   },
   "file_extension": ".py",
   "mimetype": "text/x-python",
   "name": "python",
   "nbconvert_exporter": "python",
   "pygments_lexer": "ipython3",
   "version": "3.6.1"
  }
 },
 "nbformat": 4,
 "nbformat_minor": 2
}
